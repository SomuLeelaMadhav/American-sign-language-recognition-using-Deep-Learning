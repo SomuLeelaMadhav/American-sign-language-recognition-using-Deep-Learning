{
  "metadata": {
    "kernelspec": {
      "language": "python",
      "display_name": "Python 3",
      "name": "python3"
    },
    "language_info": {
      "name": "python",
      "version": "3.7.12",
      "mimetype": "text/x-python",
      "codemirror_mode": {
        "name": "ipython",
        "version": 3
      },
      "pygments_lexer": "ipython3",
      "nbconvert_exporter": "python",
      "file_extension": ".py"
    },
    "colab": {
      "provenance": []
    }
  },
  "nbformat_minor": 0,
  "nbformat": 4,
  "cells": [
    {
      "cell_type": "markdown",
      "source": [
        "# ASL recognition using Convolutional Neural Networks"
      ],
      "metadata": {
        "id": "TUJ3sS2dEBRL"
      }
    },
    {
      "cell_type": "markdown",
      "source": [
        "## Importing tensorflow"
      ],
      "metadata": {
        "id": "K9d6PwXzEBRP"
      }
    },
    {
      "cell_type": "code",
      "source": [
        "import numpy as np\n",
        "import tensorflow as tf\n",
        "import os"
      ],
      "metadata": {
        "pycharm": {
          "name": "#%%\n"
        },
        "jupyter": {
          "outputs_hidden": false
        },
        "execution": {
          "iopub.status.busy": "2022-12-03T02:42:36.359159Z",
          "iopub.execute_input": "2022-12-03T02:42:36.359533Z",
          "iopub.status.idle": "2022-12-03T02:42:40.660222Z",
          "shell.execute_reply.started": "2022-12-03T02:42:36.359493Z",
          "shell.execute_reply": "2022-12-03T02:42:40.659457Z"
        },
        "trusted": true,
        "id": "Uirq-HFMEBRQ"
      },
      "execution_count": 2,
      "outputs": []
    },
    {
      "cell_type": "code",
      "source": [
        "from google.colab import drive\n",
        "drive.mount('/content/gdrive')"
      ],
      "metadata": {
        "colab": {
          "base_uri": "https://localhost:8080/"
        },
        "id": "zu5SSkiwECSw",
        "outputId": "d1cf6dc9-a942-4b51-b26f-a1c6fc50ae0d"
      },
      "execution_count": 3,
      "outputs": [
        {
          "output_type": "stream",
          "name": "stdout",
          "text": [
            "Mounted at /content/gdrive\n"
          ]
        }
      ]
    },
    {
      "cell_type": "code",
      "source": [
        "train_dir = \"/content/gdrive/My Drive/dataset/asl_alphabet_train/asl_alphabet_train/\""
      ],
      "metadata": {
        "id": "LczN79OkEHGD"
      },
      "execution_count": 4,
      "outputs": []
    },
    {
      "cell_type": "code",
      "source": [
        " # This function will plot images in the form of a grid with 1 row and 5 columns where images are placed in each column.\n",
        "def plotImages(images_arr):\n",
        "    fig, axes = plt.subplots(1, 5, figsize=(20,20))\n",
        "    axes = axes.flatten()\n",
        "    for img, ax in zip(images_arr, axes):\n",
        "        ax.imshow(img)\n",
        "    plt.tight_layout()\n",
        "    plt.show()"
      ],
      "metadata": {
        "id": "48V8bPVuEJvA"
      },
      "execution_count": 5,
      "outputs": []
    },
    {
      "cell_type": "code",
      "source": [
        "BATCH_SIZE = 100\n",
        "IMG_SHAPE  = 50"
      ],
      "metadata": {
        "id": "OhruVxK6EMin"
      },
      "execution_count": 6,
      "outputs": []
    },
    {
      "cell_type": "code",
      "source": [
        "#image agumentation \n",
        "from tensorflow.keras.preprocessing.image import ImageDataGenerator\n",
        "image_gen_train = ImageDataGenerator(\n",
        "      rescale=1./255,#rescaling\n",
        "      rotation_range=40,\n",
        "      width_shift_range=0.2,\n",
        "      height_shift_range=0.2,\n",
        "      shear_range=0.2,\n",
        "      zoom_range=0.2,\n",
        "      horizontal_flip=True,\n",
        "      fill_mode='nearest',\n",
        "      featurewise_center =True,#standardization\n",
        "      featurewise_std_normalization = True)\n",
        "\n",
        "train_data_gen = image_gen_train.flow_from_directory(batch_size=BATCH_SIZE,\n",
        "                                                     directory=train_dir,\n",
        "                                                     shuffle=True,\n",
        "                                                     color_mode = 'rgb',# color \n",
        "                                                     target_size=(IMG_SHAPE,IMG_SHAPE),\n",
        "                                                     class_mode='binary')\n"
      ],
      "metadata": {
        "colab": {
          "base_uri": "https://localhost:8080/"
        },
        "id": "9eJ17akhEPdd",
        "outputId": "3efe3502-b6a8-47e3-e107-5e813f75e652"
      },
      "execution_count": 7,
      "outputs": [
        {
          "output_type": "stream",
          "name": "stdout",
          "text": [
            "Found 69243 images belonging to 29 classes.\n"
          ]
        }
      ]
    },
    {
      "cell_type": "code",
      "source": [
        "train_data_gen.class_indices"
      ],
      "metadata": {
        "colab": {
          "base_uri": "https://localhost:8080/"
        },
        "id": "21HZW-FkESFV",
        "outputId": "745b83d3-d7a5-486f-ba61-f1beb247bad3"
      },
      "execution_count": 8,
      "outputs": [
        {
          "output_type": "execute_result",
          "data": {
            "text/plain": [
              "{'A': 0,\n",
              " 'B': 1,\n",
              " 'C': 2,\n",
              " 'D': 3,\n",
              " 'E': 4,\n",
              " 'F': 5,\n",
              " 'G': 6,\n",
              " 'H': 7,\n",
              " 'I': 8,\n",
              " 'J': 9,\n",
              " 'K': 10,\n",
              " 'L': 11,\n",
              " 'M': 12,\n",
              " 'N': 13,\n",
              " 'O': 14,\n",
              " 'P': 15,\n",
              " 'Q': 16,\n",
              " 'R': 17,\n",
              " 'S': 18,\n",
              " 'T': 19,\n",
              " 'U': 20,\n",
              " 'V': 21,\n",
              " 'W': 22,\n",
              " 'X': 23,\n",
              " 'Y': 24,\n",
              " 'Z': 25,\n",
              " 'del': 26,\n",
              " 'nothing': 27,\n",
              " 'space': 28}"
            ]
          },
          "metadata": {},
          "execution_count": 8
        }
      ]
    },
    {
      "cell_type": "code",
      "source": [
        "import matplotlib.pyplot as plt\n",
        "augmented_images = [train_data_gen[0][0][0] for i in range(5)]\n",
        "plotImages(augmented_images)"
      ],
      "metadata": {
        "colab": {
          "base_uri": "https://localhost:8080/",
          "height": 394
        },
        "id": "ZUkFBXP1EU6l",
        "outputId": "721be7c4-4adf-4696-f96d-d6607a547669"
      },
      "execution_count": 9,
      "outputs": [
        {
          "output_type": "stream",
          "name": "stderr",
          "text": [
            "/usr/local/lib/python3.8/dist-packages/keras/preprocessing/image.py:1663: UserWarning: This ImageDataGenerator specifies `featurewise_center`, but it hasn't been fit on any training data. Fit it first by calling `.fit(numpy_data)`.\n",
            "  warnings.warn('This ImageDataGenerator specifies '\n",
            "/usr/local/lib/python3.8/dist-packages/keras/preprocessing/image.py:1671: UserWarning: This ImageDataGenerator specifies `featurewise_std_normalization`, but it hasn't been fit on any training data. Fit it first by calling `.fit(numpy_data)`.\n",
            "  warnings.warn('This ImageDataGenerator specifies '\n"
          ]
        },
        {
          "output_type": "display_data",
          "data": {
            "text/plain": [
              "<Figure size 1440x1440 with 5 Axes>"
            ],
            "image/png": "[encoded data removed]"
          },
          "metadata": {
            "needs_background": "light"
          }
        }
      ]
    },
    {
      "cell_type": "code",
      "source": [
        "batch_size=32\n",
        "img_height=64\n",
        "img_width=64"
      ],
      "metadata": {
        "id": "sGs4hoFEEXxk"
      },
      "execution_count": 10,
      "outputs": []
    },
    {
      "cell_type": "code",
      "source": [
        "#spliting the train into train\n",
        "train_ds = tf.keras.utils.image_dataset_from_directory(\n",
        "    train_dir,\n",
        "    validation_split=0.1,\n",
        "    subset=\"training\",\n",
        "    seed=123,\n",
        "    image_size=(img_height, img_width),\n",
        "    batch_size=batch_size)"
      ],
      "metadata": {
        "colab": {
          "base_uri": "https://localhost:8080/"
        },
        "id": "qyAieqdGEaWg",
        "outputId": "695797c1-8edc-4ad7-908f-c6110a057985"
      },
      "execution_count": 11,
      "outputs": [
        {
          "output_type": "stream",
          "name": "stdout",
          "text": [
            "Found 69243 files belonging to 29 classes.\n",
            "Using 62319 files for training.\n"
          ]
        }
      ]
    },
    {
      "cell_type": "code",
      "source": [
        "#spliting the data to validate\n",
        "validation_ds = tf.keras.utils.image_dataset_from_directory(\n",
        "    train_dir,\n",
        "    validation_split=0.09,\n",
        "    subset=\"validation\",\n",
        "    seed=123,\n",
        "    image_size=(img_height, img_width),\n",
        "    batch_size=batch_size)"
      ],
      "metadata": {
        "id": "cLetI2OkEcqo"
      },
      "execution_count": null,
      "outputs": []
    },
    {
      "cell_type": "code",
      "source": [
        "#spliting the data to test\n",
        "test_ds = tf.keras.utils.image_dataset_from_directory(\n",
        "    train_dir,\n",
        "    validation_split=0.01,\n",
        "    subset=\"validation\",\n",
        "    seed=123,\n",
        "    image_size=(img_height, img_width),\n",
        "    batch_size=batch_size)"
      ],
      "metadata": {
        "id": "oUlzHlY-EfXT"
      },
      "execution_count": null,
      "outputs": []
    },
    {
      "cell_type": "code",
      "source": [
        "import matplotlib.pyplot as plt\n",
        "\n",
        "class_names = train_ds.class_names\n",
        "plt.figure(figsize=(10, 10))\n",
        "for images, labels in train_ds.take(1):\n",
        "    for i in range(len(class_names)):\n",
        "        ax = plt.subplot(6,5 , i + 1)\n",
        "        plt.imshow(images[i].numpy().astype(\"uint8\"))\n",
        "        plt.title(class_names[labels[i]])\n",
        "        plt.axis(\"off\")"
      ],
      "metadata": {
        "id": "FEWDPWSbEh_x"
      },
      "execution_count": null,
      "outputs": []
    },
    {
      "cell_type": "markdown",
      "source": [
        "# Creating the Model"
      ],
      "metadata": {
        "id": "0kEeBy2kEBRV"
      }
    },
    {
      "cell_type": "markdown",
      "source": [
        "## Method #1: traditional CNN with 15 layers"
      ],
      "metadata": {
        "id": "BVIlSJWsEBRV"
      }
    },
    {
      "cell_type": "code",
      "source": [
        "from keras import Sequential\n",
        "from keras import layers\n",
        "\n",
        "model = Sequential([\n",
        "    layers.Rescaling(1./255),\n",
        "    layers.Conv2D(16, 3, padding='same', activation='relu'),\n",
        "    layers.MaxPooling2D(),\n",
        "\n",
        "    layers.Conv2D(32, 3, padding='same', activation='relu'),\n",
        "    layers.MaxPooling2D(),\n",
        "    layers.Dropout(0.25),\n",
        "\n",
        "    layers.Conv2D(64, 3, padding='same', activation='relu'),\n",
        "    layers.MaxPooling2D(),\n",
        "    layers.Dropout(0.25),\n",
        "    \n",
        "    layers.Conv2D(128, 3, padding='same', activation='relu'),\n",
        "    layers.MaxPooling2D(),\n",
        "    layers.Dropout(0.25),\n",
        "\n",
        "    layers.Flatten(),\n",
        "    layers.Dense(256, activation='relu'),\n",
        "    layers.Dense(len(class_names), activation='softmax')\n",
        "])"
      ],
      "metadata": {
        "execution": {
          "iopub.status.busy": "2022-12-03T02:45:57.913148Z",
          "iopub.execute_input": "2022-12-03T02:45:57.913414Z",
          "iopub.status.idle": "2022-12-03T02:45:57.952510Z",
          "shell.execute_reply.started": "2022-12-03T02:45:57.913383Z",
          "shell.execute_reply": "2022-12-03T02:45:57.951779Z"
        },
        "trusted": true,
        "id": "DuD2jrhPEBRV"
      },
      "execution_count": null,
      "outputs": []
    },
    {
      "cell_type": "code",
      "source": [
        "model.compile(loss='sparse_categorical_crossentropy',optimizer='adam',metrics=['accuracy'])"
      ],
      "metadata": {
        "pycharm": {
          "name": "#%%\n"
        },
        "jupyter": {
          "outputs_hidden": false
        },
        "execution": {
          "iopub.status.busy": "2022-12-03T02:45:59.114839Z",
          "iopub.execute_input": "2022-12-03T02:45:59.115114Z",
          "iopub.status.idle": "2022-12-03T02:45:59.129604Z",
          "shell.execute_reply.started": "2022-12-03T02:45:59.115085Z",
          "shell.execute_reply": "2022-12-03T02:45:59.128820Z"
        },
        "trusted": true,
        "id": "4noTRZqeEBRW"
      },
      "execution_count": null,
      "outputs": []
    },
    {
      "cell_type": "code",
      "source": [
        "history = model.fit(train_ds, batch_size=32,validation_batch_size=32, validation_data=validation_ds,epochs=10)"
      ],
      "metadata": {
        "execution": {
          "iopub.status.busy": "2022-12-03T02:46:06.669706Z",
          "iopub.execute_input": "2022-12-03T02:46:06.669987Z",
          "iopub.status.idle": "2022-12-03T03:00:39.898707Z",
          "shell.execute_reply.started": "2022-12-03T02:46:06.669957Z",
          "shell.execute_reply": "2022-12-03T03:00:39.897879Z"
        },
        "trusted": true,
        "id": "rn12sScrEBRW",
        "outputId": "84d931a1-cb19-48e0-e523-422e2fb4d9c3"
      },
      "execution_count": null,
      "outputs": [
        {
          "name": "stderr",
          "text": "2022-12-03 02:46:06.672381: I tensorflow/stream_executor/cuda/cuda_gpu_executor.cc:937] successful NUMA node read from SysFS had negative value (-1), but there must be at least one NUMA node, so returning NUMA node zero\n2022-12-03 02:46:06.673001: I tensorflow/stream_executor/cuda/cuda_gpu_executor.cc:937] successful NUMA node read from SysFS had negative value (-1), but there must be at least one NUMA node, so returning NUMA node zero\n2022-12-03 02:46:06.673326: I tensorflow/stream_executor/cuda/cuda_gpu_executor.cc:937] successful NUMA node read from SysFS had negative value (-1), but there must be at least one NUMA node, so returning NUMA node zero\n2022-12-03 02:46:06.673717: I tensorflow/stream_executor/cuda/cuda_gpu_executor.cc:937] successful NUMA node read from SysFS had negative value (-1), but there must be at least one NUMA node, so returning NUMA node zero\n2022-12-03 02:46:06.674036: I tensorflow/stream_executor/cuda/cuda_gpu_executor.cc:937] successful NUMA node read from SysFS had negative value (-1), but there must be at least one NUMA node, so returning NUMA node zero\n2022-12-03 02:46:06.674284: I tensorflow/core/common_runtime/gpu/gpu_device.cc:1510] Created device /device:GPU:0 with 15403 MB memory:  -> device: 0, name: Tesla P100-PCIE-16GB, pci bus id: 0000:00:04.0, compute capability: 6.0\n",
          "output_type": "stream"
        },
        {
          "name": "stdout",
          "text": "Epoch 1/10\n",
          "output_type": "stream"
        },
        {
          "name": "stderr",
          "text": "2022-12-03 02:46:08.217459: I tensorflow/stream_executor/cuda/cuda_dnn.cc:369] Loaded cuDNN version 8005\n",
          "output_type": "stream"
        },
        {
          "name": "stdout",
          "text": "2447/2447 [==============================] - 216s 85ms/step - loss: 0.7898 - accuracy: 0.7527 - val_loss: 0.1040 - val_accuracy: 0.9664\nEpoch 2/10\n2447/2447 [==============================] - 57s 23ms/step - loss: 0.1333 - accuracy: 0.9541 - val_loss: 0.0240 - val_accuracy: 0.9935\nEpoch 3/10\n2447/2447 [==============================] - 58s 23ms/step - loss: 0.0811 - accuracy: 0.9724 - val_loss: 0.0176 - val_accuracy: 0.9953\nEpoch 4/10\n2447/2447 [==============================] - 57s 23ms/step - loss: 0.0639 - accuracy: 0.9784 - val_loss: 0.0140 - val_accuracy: 0.9957\nEpoch 5/10\n2447/2447 [==============================] - 57s 23ms/step - loss: 0.0519 - accuracy: 0.9825 - val_loss: 0.0065 - val_accuracy: 0.9987\nEpoch 6/10\n2447/2447 [==============================] - 57s 23ms/step - loss: 0.0477 - accuracy: 0.9840 - val_loss: 0.0180 - val_accuracy: 0.9928\nEpoch 7/10\n2447/2447 [==============================] - 57s 23ms/step - loss: 0.0449 - accuracy: 0.9856 - val_loss: 0.0301 - val_accuracy: 0.9912\nEpoch 8/10\n2447/2447 [==============================] - 56s 23ms/step - loss: 0.0384 - accuracy: 0.9883 - val_loss: 0.0106 - val_accuracy: 0.9967\nEpoch 9/10\n2447/2447 [==============================] - 55s 22ms/step - loss: 0.0372 - accuracy: 0.9885 - val_loss: 0.0057 - val_accuracy: 0.9980\nEpoch 10/10\n2447/2447 [==============================] - 56s 23ms/step - loss: 0.0357 - accuracy: 0.9893 - val_loss: 0.0050 - val_accuracy: 0.9981\n",
          "output_type": "stream"
        }
      ]
    },
    {
      "cell_type": "markdown",
      "source": [
        "### Plotting accuracy and loss with each epoch"
      ],
      "metadata": {
        "id": "LYerpAKYEBRX"
      }
    },
    {
      "cell_type": "code",
      "source": [
        "import matplotlib.pyplot as plt\n",
        "\n",
        "acc = history.history['accuracy']\n",
        "val_acc = history.history['val_accuracy']\n",
        "loss = history.history['loss']\n",
        "val_loss = history.history['val_loss']\n",
        "\n",
        "epochs = range(len(acc))\n",
        "\n",
        "plt.plot(epochs, acc, 'r', label='Training accuracy')\n",
        "plt.plot(epochs, val_acc, 'b', label='Validation accuracy')\n",
        "plt.title('Training and validation accuracy')\n",
        "plt.legend()\n",
        "plt.figure()\n",
        "\n",
        "plt.plot(epochs, loss, 'r', label='Training Loss')\n",
        "plt.plot(epochs, val_loss, 'b', label='Validation Loss')\n",
        "plt.title('Training and validation loss')\n",
        "plt.legend()\n",
        "\n",
        "plt.show()\n",
        "\n"
      ],
      "metadata": {
        "execution": {
          "iopub.status.busy": "2022-12-03T03:11:42.581376Z",
          "iopub.execute_input": "2022-12-03T03:11:42.581694Z",
          "iopub.status.idle": "2022-12-03T03:11:42.976312Z",
          "shell.execute_reply.started": "2022-12-03T03:11:42.581660Z",
          "shell.execute_reply": "2022-12-03T03:11:42.975475Z"
        },
        "trusted": true,
        "id": "uDQ273iWEBRX",
        "outputId": "3fe0d435-e6de-4f67-c9b2-d81b7b5aa410"
      },
      "execution_count": null,
      "outputs": [
        {
          "output_type": "display_data",
          "data": {
            "text/plain": "<Figure size 432x288 with 1 Axes>",
            "image/png": "[encoded data removed]"
          },
          "metadata": {
            "needs_background": "light"
          }
        },
        {
          "output_type": "display_data",
          "data": {
            "text/plain": "<Figure size 432x288 with 1 Axes>",
            "image/png": "[encoded data removed]"
          },
          "metadata": {
            "needs_background": "light"
          }
        }
      ]
    },
    {
      "cell_type": "markdown",
      "source": [
        "### Saving the model"
      ],
      "metadata": {
        "id": "jUvENTAFEBRX"
      }
    },
    {
      "cell_type": "code",
      "source": [
        "model.save('model1.h5')"
      ],
      "metadata": {
        "pycharm": {
          "name": "#%%\n"
        },
        "jupyter": {
          "outputs_hidden": false
        },
        "execution": {
          "iopub.status.busy": "2022-12-03T03:11:46.613473Z",
          "iopub.execute_input": "2022-12-03T03:11:46.614068Z",
          "iopub.status.idle": "2022-12-03T03:11:46.673894Z",
          "shell.execute_reply.started": "2022-12-03T03:11:46.614030Z",
          "shell.execute_reply": "2022-12-03T03:11:46.673132Z"
        },
        "trusted": true,
        "id": "tjYlllddEBRX"
      },
      "execution_count": null,
      "outputs": []
    },
    {
      "cell_type": "markdown",
      "source": [
        "### Testing on test dataset"
      ],
      "metadata": {
        "id": "rjC4bvZLEBRX"
      }
    },
    {
      "cell_type": "code",
      "source": [
        "actual = []\n",
        "pred = []\n",
        "for images, labels in test_ds:\n",
        "    for i in range(0, len(images)):\n",
        "        image = images[i]\n",
        "        image = np.expand_dims(image, axis=0)\n",
        "        result = model.predict(image)\n",
        "        pred.append(class_names[np.argmax(result)])\n",
        "        actual.append(class_names[labels[i].numpy()])"
      ],
      "metadata": {
        "execution": {
          "iopub.status.busy": "2022-12-03T03:11:48.235951Z",
          "iopub.execute_input": "2022-12-03T03:11:48.236249Z",
          "iopub.status.idle": "2022-12-03T03:12:21.885329Z",
          "shell.execute_reply.started": "2022-12-03T03:11:48.236217Z",
          "shell.execute_reply": "2022-12-03T03:12:21.884550Z"
        },
        "trusted": true,
        "id": "kyChmf33EBRY"
      },
      "execution_count": null,
      "outputs": []
    },
    {
      "cell_type": "code",
      "source": [
        "print(\"actual \\t  predicted\")\n",
        "for i in range(0,10):\n",
        "    print(actual[i],\"\\t\",pred[i])"
      ],
      "metadata": {
        "execution": {
          "iopub.status.busy": "2022-12-03T03:37:27.746437Z",
          "iopub.execute_input": "2022-12-03T03:37:27.747002Z",
          "iopub.status.idle": "2022-12-03T03:37:27.756066Z",
          "shell.execute_reply.started": "2022-12-03T03:37:27.746964Z",
          "shell.execute_reply": "2022-12-03T03:37:27.755269Z"
        },
        "trusted": true,
        "id": "n9fMmkeJEBRY",
        "outputId": "90d19154-e47f-446e-c472-d2e51ab23b6d"
      },
      "execution_count": null,
      "outputs": [
        {
          "name": "stdout",
          "text": "actual \t  predicted\nN \t Y\nN \t M\nN \t M\nN \t M\nN \t N\nN \t M\nN \t N\nN \t N\nN \t N\nN \t M\n",
          "output_type": "stream"
        }
      ]
    },
    {
      "cell_type": "markdown",
      "source": [
        "## Method #2: Transfer learning"
      ],
      "metadata": {
        "id": "yCC13fPeEBRZ"
      }
    },
    {
      "cell_type": "code",
      "source": [
        "transfer_model = Sequential([\n",
        "    tf.keras.applications.MobileNet(\n",
        "        input_shape=(img_height, img_width, 3),\n",
        "    alpha=1.0,\n",
        "    dropout=0.001,\n",
        "    include_top=False,\n",
        "    weights=\"imagenet\",\n",
        "),\n",
        "    layers.Flatten(),\n",
        "    layers.Dropout(0.2),\n",
        "    layers.Dense(256, activation='relu',\n",
        "                bias_regularizer='l2',\n",
        "                activity_regularizer='l2'\n",
        "                ),\n",
        "    layers.Dense(len(class_names),activation='softmax',\n",
        "                bias_regularizer='l2',\n",
        "                activity_regularizer='l2'\n",
        "                )\n",
        "])"
      ],
      "metadata": {
        "execution": {
          "iopub.status.busy": "2022-12-03T03:15:09.113262Z",
          "iopub.execute_input": "2022-12-03T03:15:09.113533Z",
          "iopub.status.idle": "2022-12-03T03:15:11.099603Z",
          "shell.execute_reply.started": "2022-12-03T03:15:09.113496Z",
          "shell.execute_reply": "2022-12-03T03:15:11.098766Z"
        },
        "trusted": true,
        "id": "Af64NrBiEBRZ",
        "outputId": "b6dfb45a-b349-4dd9-992c-0f117061b8f1"
      },
      "execution_count": null,
      "outputs": [
        {
          "name": "stdout",
          "text": "Downloading data from https://storage.googleapis.com/tensorflow/keras-applications/mobilenet/mobilenet_1_0_224_tf_no_top.h5\n17227776/17225924 [==============================] - 1s 0us/step\n17235968/17225924 [==============================] - 1s 0us/step\n",
          "output_type": "stream"
        }
      ]
    },
    {
      "cell_type": "code",
      "source": [
        "transfer_model.compile(loss='sparse_categorical_crossentropy',optimizer='adam',metrics=['accuracy'])"
      ],
      "metadata": {
        "pycharm": {
          "name": "#%%\n"
        },
        "jupyter": {
          "outputs_hidden": false
        },
        "execution": {
          "iopub.status.busy": "2022-12-03T03:15:11.101551Z",
          "iopub.execute_input": "2022-12-03T03:15:11.101856Z",
          "iopub.status.idle": "2022-12-03T03:15:11.113330Z",
          "shell.execute_reply.started": "2022-12-03T03:15:11.101794Z",
          "shell.execute_reply": "2022-12-03T03:15:11.112401Z"
        },
        "trusted": true,
        "id": "13bgWdKcEBRZ"
      },
      "execution_count": null,
      "outputs": []
    },
    {
      "cell_type": "code",
      "source": [
        "history = transfer_model.fit(train_ds, batch_size=32,validation_batch_size=32, validation_data=validation_ds,epochs=10)"
      ],
      "metadata": {
        "execution": {
          "iopub.status.busy": "2022-12-03T03:15:11.114537Z",
          "iopub.execute_input": "2022-12-03T03:15:11.114980Z",
          "iopub.status.idle": "2022-12-03T03:27:39.712417Z",
          "shell.execute_reply.started": "2022-12-03T03:15:11.114942Z",
          "shell.execute_reply": "2022-12-03T03:27:39.711645Z"
        },
        "trusted": true,
        "id": "WL3QbIqkEBRZ",
        "outputId": "d1c409e8-8394-4fe7-92c6-359202fd4d69"
      },
      "execution_count": null,
      "outputs": [
        {
          "name": "stderr",
          "text": "2022-12-03 03:15:11.142053: I tensorflow/stream_executor/cuda/cuda_gpu_executor.cc:937] successful NUMA node read from SysFS had negative value (-1), but there must be at least one NUMA node, so returning NUMA node zero\n2022-12-03 03:15:11.142579: I tensorflow/stream_executor/cuda/cuda_gpu_executor.cc:937] successful NUMA node read from SysFS had negative value (-1), but there must be at least one NUMA node, so returning NUMA node zero\n2022-12-03 03:15:11.142961: I tensorflow/stream_executor/cuda/cuda_gpu_executor.cc:937] successful NUMA node read from SysFS had negative value (-1), but there must be at least one NUMA node, so returning NUMA node zero\n2022-12-03 03:15:11.143335: I tensorflow/stream_executor/cuda/cuda_gpu_executor.cc:937] successful NUMA node read from SysFS had negative value (-1), but there must be at least one NUMA node, so returning NUMA node zero\n2022-12-03 03:15:11.143674: I tensorflow/stream_executor/cuda/cuda_gpu_executor.cc:937] successful NUMA node read from SysFS had negative value (-1), but there must be at least one NUMA node, so returning NUMA node zero\n2022-12-03 03:15:11.144031: I tensorflow/core/common_runtime/gpu/gpu_device.cc:1510] Created device /device:GPU:0 with 15403 MB memory:  -> device: 0, name: Tesla P100-PCIE-16GB, pci bus id: 0000:00:04.0, compute capability: 6.0\n",
          "output_type": "stream"
        },
        {
          "name": "stdout",
          "text": "Epoch 1/10\n2447/2447 [==============================] - 73s 29ms/step - loss: 0.9968 - accuracy: 0.8094 - val_loss: 0.3256 - val_accuracy: 0.9536\nEpoch 2/10\n2447/2447 [==============================] - 78s 32ms/step - loss: 0.4892 - accuracy: 0.9086 - val_loss: 0.3220 - val_accuracy: 0.9464\nEpoch 3/10\n2447/2447 [==============================] - 70s 29ms/step - loss: 0.3250 - accuracy: 0.9440 - val_loss: 0.5086 - val_accuracy: 0.8954\nEpoch 4/10\n2447/2447 [==============================] - 69s 28ms/step - loss: 0.3727 - accuracy: 0.9270 - val_loss: 0.4133 - val_accuracy: 0.8971\nEpoch 5/10\n2447/2447 [==============================] - 69s 28ms/step - loss: 0.3286 - accuracy: 0.9323 - val_loss: 0.2403 - val_accuracy: 0.9637\nEpoch 6/10\n2447/2447 [==============================] - 71s 29ms/step - loss: 0.2696 - accuracy: 0.9550 - val_loss: 0.3191 - val_accuracy: 0.9299\nEpoch 7/10\n2447/2447 [==============================] - 69s 28ms/step - loss: 0.2391 - accuracy: 0.9499 - val_loss: 1.5315 - val_accuracy: 0.5877\nEpoch 8/10\n2447/2447 [==============================] - 69s 28ms/step - loss: 0.2771 - accuracy: 0.9429 - val_loss: 0.2321 - val_accuracy: 0.9580\nEpoch 9/10\n2447/2447 [==============================] - 69s 28ms/step - loss: 0.1937 - accuracy: 0.9634 - val_loss: 0.1210 - val_accuracy: 0.9831\nEpoch 10/10\n2447/2447 [==============================] - 69s 28ms/step - loss: 0.2302 - accuracy: 0.9524 - val_loss: 0.1176 - val_accuracy: 0.9810\n",
          "output_type": "stream"
        }
      ]
    },
    {
      "cell_type": "code",
      "source": [
        "acc = history.history['accuracy']\n",
        "val_acc = history.history['val_accuracy']\n",
        "loss = history.history['loss']\n",
        "val_loss = history.history['val_loss']\n",
        "\n",
        "epochs = range(len(acc))\n",
        "\n",
        "plt.plot(epochs, acc, 'r', label='Training accuracy')\n",
        "plt.plot(epochs, val_acc, 'b', label='Validation accuracy')\n",
        "plt.title('Training and validation accuracy')\n",
        "plt.legend()\n",
        "plt.figure()\n",
        "\n",
        "plt.plot(epochs, loss, 'r', label='Training Loss')\n",
        "plt.plot(epochs, val_loss, 'b', label='Validation Loss')\n",
        "plt.title('Training and validation loss')\n",
        "plt.legend()\n",
        "\n",
        "plt.show()\n",
        "\n"
      ],
      "metadata": {
        "execution": {
          "iopub.status.busy": "2022-12-03T03:27:39.714093Z",
          "iopub.execute_input": "2022-12-03T03:27:39.714374Z",
          "iopub.status.idle": "2022-12-03T03:27:40.134427Z",
          "shell.execute_reply.started": "2022-12-03T03:27:39.714339Z",
          "shell.execute_reply": "2022-12-03T03:27:40.133717Z"
        },
        "trusted": true,
        "id": "eNUcVdNYEBRZ",
        "outputId": "5dddeeb8-7b0e-4bba-ed25-b197bdcbcb5f"
      },
      "execution_count": null,
      "outputs": [
        {
          "output_type": "display_data",
          "data": {
            "text/plain": "<Figure size 432x288 with 1 Axes>",
            "image/png": "[encoded data removed]"
          },
          "metadata": {
            "needs_background": "light"
          }
        },
        {
          "output_type": "display_data",
          "data": {
            "text/plain": "<Figure size 432x288 with 1 Axes>",
            "image/png": "[encoded data removed]"
          },
          "metadata": {
            "needs_background": "light"
          }
        }
      ]
    },
    {
      "cell_type": "code",
      "source": [
        "transfer_model.save('model2.h5')"
      ],
      "metadata": {
        "pycharm": {
          "name": "#%%\n"
        },
        "jupyter": {
          "outputs_hidden": false
        },
        "execution": {
          "iopub.status.busy": "2022-12-03T03:27:40.135874Z",
          "iopub.execute_input": "2022-12-03T03:27:40.136154Z",
          "iopub.status.idle": "2022-12-03T03:27:40.444080Z",
          "shell.execute_reply.started": "2022-12-03T03:27:40.136112Z",
          "shell.execute_reply": "2022-12-03T03:27:40.443348Z"
        },
        "trusted": true,
        "id": "GRz24ZBfEBRZ"
      },
      "execution_count": null,
      "outputs": []
    },
    {
      "cell_type": "code",
      "source": [
        "actual = []\n",
        "pred = []\n",
        "for images, labels in test_ds:\n",
        "    for i in range(0, len(images)):\n",
        "        image = images[i]\n",
        "        image = np.expand_dims(image, axis=0)\n",
        "        result = transfer_model.predict(image)\n",
        "        pred.append(class_names[np.argmax(result)])\n",
        "        actual.append(class_names[labels[i].numpy()])"
      ],
      "metadata": {
        "execution": {
          "iopub.status.busy": "2022-12-03T03:27:40.445616Z",
          "iopub.execute_input": "2022-12-03T03:27:40.445875Z",
          "iopub.status.idle": "2022-12-03T03:28:18.146308Z",
          "shell.execute_reply.started": "2022-12-03T03:27:40.445840Z",
          "shell.execute_reply": "2022-12-03T03:28:18.145477Z"
        },
        "trusted": true,
        "id": "u3UmrHrpEBRZ"
      },
      "execution_count": null,
      "outputs": []
    },
    {
      "cell_type": "code",
      "source": [
        "print(\"actual \\t  predicted\")\n",
        "for i in range(0,10):\n",
        "    print(actual[i],\"\\t\",pred[i])"
      ],
      "metadata": {
        "execution": {
          "iopub.status.busy": "2022-12-03T03:28:29.276445Z",
          "iopub.execute_input": "2022-12-03T03:28:29.277167Z",
          "iopub.status.idle": "2022-12-03T03:28:29.286232Z",
          "shell.execute_reply.started": "2022-12-03T03:28:29.277129Z",
          "shell.execute_reply": "2022-12-03T03:28:29.285272Z"
        },
        "trusted": true,
        "id": "RznmC1hYEBRa",
        "outputId": "bfbf57f2-38f4-462f-c273-f14be0376334"
      },
      "execution_count": null,
      "outputs": [
        {
          "name": "stdout",
          "text": "actual \t  predicted\nQ \t Q\nnothing \t nothing\nQ \t Q\nV \t V\nF \t F\nP \t P\nA \t A\nJ \t J\nR \t R\nV \t V\n",
          "output_type": "stream"
        }
      ]
    }
  ]
}